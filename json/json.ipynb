{
 "cells": [
  {
   "cell_type": "code",
   "execution_count": 1,
   "metadata": {},
   "outputs": [
    {
     "name": "stdout",
     "output_type": "stream",
     "text": [
      "{\n",
      "  \"1\": {\n",
      "    \"name\": \"Guido van Rossum\",\n",
      "    \"password\": \"unladenswallow\",\n",
      "    \"details\": {\n",
      "      \"profession\": \"ex-BDFL\"\n",
      "    }\n",
      "  },\n",
      "  \"2\": {\n",
      "    \"name\": \"Brendan Eich\",\n",
      "    \"password\": \"nontransitiveequality\",\n",
      "    \"details\": {\n",
      "      \"profession\": \"Mozillan\"\n",
      "    }\n",
      "  },\n",
      "  \"3\": {\n",
      "    \"name\": \"Ken Thompson\",\n",
      "    \"password\": \"p/q2-q4!\",\n",
      "    \"details\": {\n",
      "      \"profession\": \"Unix Creator\"\n",
      "    }\n",
      "  }\n",
      "}\n"
     ]
    }
   ],
   "source": [
    "%%bash\n",
    "jq . 3001.json"
   ]
  },
  {
   "cell_type": "code",
   "execution_count": 2,
   "metadata": {},
   "outputs": [],
   "source": [
    "import json\n",
    "with open('gz_2010_us_050_00_20m.json', encoding='ISO-8859-1') as fh:\n",
    "    counties = json.load(fh)\n",
    "\n",
    "    counties.keys()"
   ]
  },
  {
   "cell_type": "code",
   "execution_count": 3,
   "metadata": {},
   "outputs": [
    {
     "data": {
      "text/plain": [
       "('FeatureCollection', list, 3221)"
      ]
     },
     "execution_count": 3,
     "metadata": {},
     "output_type": "execute_result"
    }
   ],
   "source": [
    "counties['type'], type(counties['features']), len(counties['features'])"
   ]
  },
  {
   "cell_type": "code",
   "execution_count": 5,
   "metadata": {},
   "outputs": [
    {
     "data": {
      "text/plain": [
       "{'type': 'Feature',\n",
       " 'properties': {'GEO_ID': '0500000US19153',\n",
       "  'STATE': '19',\n",
       "  'COUNTY': '153',\n",
       "  'NAME': 'Polk',\n",
       "  'LSAD': 'County',\n",
       "  'CENSUSAREA': 573.795},\n",
       " 'geometry': {'type': 'Polygon',\n",
       "  'coordinates': [[[-93.328614, 41.507824],\n",
       "    [-93.328486, 41.49134],\n",
       "    [-93.328407, 41.490921],\n",
       "    [-93.41226, 41.505549],\n",
       "    [-93.790612, 41.511916],\n",
       "    [-93.814282, 41.600448],\n",
       "    [-93.815527, 41.863419],\n",
       "    [-93.698032, 41.86337],\n",
       "    [-93.347933, 41.863104],\n",
       "    [-93.348681, 41.600999],\n",
       "    [-93.328614, 41.507824]]]}}"
      ]
     },
     "execution_count": 5,
     "metadata": {},
     "output_type": "execute_result"
    }
   ],
   "source": [
    "counties['features'][999]"
   ]
  },
  {
   "cell_type": "code",
   "execution_count": null,
   "metadata": {},
   "outputs": [],
   "source": []
  }
 ],
 "metadata": {
  "kernelspec": {
   "display_name": "Python 3.10.4 64-bit",
   "language": "python",
   "name": "python3"
  },
  "language_info": {
   "codemirror_mode": {
    "name": "ipython",
    "version": 3
   },
   "file_extension": ".py",
   "mimetype": "text/x-python",
   "name": "python",
   "nbconvert_exporter": "python",
   "pygments_lexer": "ipython3",
   "version": "3.10.4"
  },
  "orig_nbformat": 4,
  "vscode": {
   "interpreter": {
    "hash": "4f946df053fbf2b937619d3c5458e7af74262f9a954d8797ba0b27400bcafe06"
   }
  }
 },
 "nbformat": 4,
 "nbformat_minor": 2
}
